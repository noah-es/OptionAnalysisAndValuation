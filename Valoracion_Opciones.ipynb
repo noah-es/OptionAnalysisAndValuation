{
 "cells": [
  {
   "cell_type": "code",
   "execution_count": 1,
   "id": "a3564acd-d8dd-4ba0-a1de-1cf42a86c2e7",
   "metadata": {},
   "outputs": [
    {
     "name": "stderr",
     "output_type": "stream",
     "text": [
      "[*********************100%%**********************]  1 of 1 completed\n"
     ]
    }
   ],
   "source": [
    "import numpy as np\n",
    "import pandas as pd\n",
    "from math import *\n",
    "import yfinance as yf\n",
    "from scipy.stats import norm\n",
    "\n",
    "\n",
    "r = 0.0137    #Risk free rate en tanto por uno\n",
    "K = 240      #Strike\n",
    "T = 1        #Tiempo a vencimiento\n",
    "\n",
    "assets = ['TSLA']\n",
    "data = pd.DataFrame()\n",
    "data = yf.download(assets, start='2013-1-1', end = '2021-1-1')['Adj Close']\n",
    "\n",
    "S = data.iloc[-1]\n",
    "\n",
    "log_returns = np.log(1+data.pct_change())\n",
    "Vol = log_returns.std() * 252 **0.5\n",
    "\n",
    "def d1(S, K, r, Vol, T):\n",
    "    return (np.log(S/K) + ((r + (Vol**2)/2) * T)) / (Vol * np.sqrt(T))\n",
    "            \n",
    "def d2(S, K, r, Vol, T):\n",
    "    return (d1(S, K, r, Vol, T)-Vol * np.sqrt(T))\n",
    "\n",
    "def BSMCall(S, K, r, Vol, T):\n",
    "    d_uno = d1(S, K, r, Vol, T)\n",
    "    d_dos = d2(S, K, r, Vol, T)\n",
    "    return (S*norm.cdf(d_uno)) - (K*np.exp(-r*T)*norm.cdf(d_dos))\n",
    "\n",
    "def BSMPut(S, K, r, Vol, T):\n",
    "    d_uno = d1(S, K, r, Vol, T)\n",
    "    d_dos = d2(S, K, r, Vol, T)\n",
    "    return (K*np.exp(-r*T)*norm.cdf(-d_dos)) - (S*norm.cdf(-d_uno))"
   ]
  },
  {
   "cell_type": "code",
   "execution_count": 2,
   "id": "bacc48e7-89ff-44b5-a8aa-3d4435971ebc",
   "metadata": {},
   "outputs": [
    {
     "data": {
      "text/plain": [
       "51.09548394621335"
      ]
     },
     "execution_count": 2,
     "metadata": {},
     "output_type": "execute_result"
    }
   ],
   "source": [
    "BSMCall(S, K, r, Vol, T)"
   ]
  },
  {
   "cell_type": "code",
   "execution_count": 3,
   "id": "3c53a12d-3fb5-4c1b-a335-d34dc00d2f81",
   "metadata": {},
   "outputs": [
    {
     "data": {
      "text/plain": [
       "52.60657660668693"
      ]
     },
     "execution_count": 3,
     "metadata": {},
     "output_type": "execute_result"
    }
   ],
   "source": [
    "BSMPut(S, K, r, Vol, T)"
   ]
  },
  {
   "cell_type": "code",
   "execution_count": 4,
   "id": "341f973c-6911-4425-bd94-a34f7d3a3a36",
   "metadata": {},
   "outputs": [
    {
     "data": {
      "text/plain": [
       "235.22332763671875"
      ]
     },
     "execution_count": 4,
     "metadata": {},
     "output_type": "execute_result"
    }
   ],
   "source": [
    "S"
   ]
  },
  {
   "cell_type": "code",
   "execution_count": 5,
   "id": "6a0b08f7-bcd7-4b88-893d-0321f0b3b257",
   "metadata": {},
   "outputs": [
    {
     "data": {
      "text/plain": [
       "[<matplotlib.lines.Line2D at 0x194af19b290>]"
      ]
     },
     "execution_count": 5,
     "metadata": {},
     "output_type": "execute_result"
    },
    {
     "data": {
      "image/png": "[encoded data removed]",
      "text/plain": [
       "<Figure size 640x480 with 1 Axes>"
      ]
     },
     "metadata": {},
     "output_type": "display_data"
    }
   ],
   "source": [
    "import matplotlib.pyplot as plt\n",
    "plt.plot(data)"
   ]
  },
  {
   "cell_type": "code",
   "execution_count": 6,
   "id": "f0610a8e-2f31-48a4-9e29-67920b91a91f",
   "metadata": {},
   "outputs": [],
   "source": [
    "def BSMCallGreeks(S, K, r, Vol, T):\n",
    "    d_uno = d1(S, K, r, Vol, T)\n",
    "    d_dos = d2(S, K, r, Vol, T)\n",
    "    Delta = norm.cdf(d_uno)\n",
    "    Gamma = norm.pdf(d_uno)/(S*Vol*sqrt(T))\n",
    "    Theta = -(S*Vol*norm.pdf(d_uno))/(2*sqrt(T)) - r*K*exp( -r*T)*norm.cdf(d_dos)\n",
    "    Vega = S *sqrt(T)*norm.pdf(d_uno)\n",
    "    Rho = K*T*exp(-r*T)*norm.cdf(d_dos)\n",
    "    return Delta, Gamma, Theta, Vega , Rho"
   ]
  },
  {
   "cell_type": "code",
   "execution_count": 7,
   "id": "c257cc41-f334-4eee-bc8e-414e975949e6",
   "metadata": {},
   "outputs": [],
   "source": [
    "def BSMPutGreeks(S, K, r, Vol, T):\n",
    "    d_uno = d1(S, K, r, Vol, T)\n",
    "    d_dos = d2(S, K, r, Vol, T)\n",
    "    Delta = norm.cdf(-d_uno)\n",
    "    Gamma = norm.pdf(d_uno)/(S*Vol*sqrt(T))\n",
    "    Theta = -(S*Vol*norm.pdf(d_uno)) / (2*sqrt(T))+ r*K * exp(-r*T) * norm.cdf(-d_uno)\n",
    "    Vega = S *sqrt(T) * norm.pdf(d_uno)\n",
    "    Rho = -K*T*exp(-r*T) * norm.cdf(-d_dos)\n",
    "    return Delta, Gamma, Theta, Vega, Rho"
   ]
  },
  {
   "cell_type": "code",
   "execution_count": 8,
   "id": "cf66010d-cb2b-4551-bef2-e3dba4cac0d1",
   "metadata": {},
   "outputs": [
    {
     "data": {
      "text/plain": [
       "(0.6054453293916435,\n",
       " 0.002933228694636189,\n",
       " -26.507700152985485,\n",
       " 90.54323445805481,\n",
       " 91.31938113539833)"
      ]
     },
     "execution_count": 8,
     "metadata": {},
     "output_type": "execute_result"
    }
   ],
   "source": [
    "BSMCallGreeks(S, K, r, Vol, T)"
   ]
  },
  {
   "cell_type": "code",
   "execution_count": 9,
   "id": "56b1d301-f6ea-4dda-8612-f4959388d66e",
   "metadata": {},
   "outputs": [
    {
     "data": {
      "text/plain": [
       "(0.3945546706083564,\n",
       " 0.002933228694636189,\n",
       " -23.97698063568887,\n",
       " 90.54323445805481,\n",
       " -145.415039161794)"
      ]
     },
     "execution_count": 9,
     "metadata": {},
     "output_type": "execute_result"
    }
   ],
   "source": [
    "BSMPutGreeks(S, K, r, Vol, T)"
   ]
  }
 ],
 "metadata": {
  "kernelspec": {
   "display_name": "Python 3 (ipykernel)",
   "language": "python",
   "name": "python3"
  },
  "language_info": {
   "codemirror_mode": {
    "name": "ipython",
    "version": 3
   },
   "file_extension": ".py",
   "mimetype": "text/x-python",
   "name": "python",
   "nbconvert_exporter": "python",
   "pygments_lexer": "ipython3",
   "version": "3.11.7"
  }
 },
 "nbformat": 4,
 "nbformat_minor": 5
}
